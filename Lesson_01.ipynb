{
  "nbformat": 4,
  "nbformat_minor": 0,
  "metadata": {
    "colab": {
      "name": "Lesson_01.ipynb",
      "provenance": [],
      "collapsed_sections": []
    },
    "kernelspec": {
      "name": "python3",
      "display_name": "Python 3"
    },
    "language_info": {
      "name": "python"
    }
  },
  "cells": [
    {
      "cell_type": "markdown",
      "metadata": {
        "id": "pY1slJj8GzjS"
      },
      "source": [
        "## 1. Посмотреть документацию к API GitHub, разобраться как вывести список репозиториев для конкретного пользователя, сохранить JSON-вывод в файле *.json."
      ]
    },
    {
      "cell_type": "code",
      "metadata": {
        "id": "Gpuae2mxFx7z"
      },
      "source": [
        "import requests\n",
        "import json"
      ],
      "execution_count": 2,
      "outputs": []
    },
    {
      "cell_type": "code",
      "metadata": {
        "id": "a1JlQ84GHAFL"
      },
      "source": [
        "url = 'https://api.github.com'\n",
        "user='strekalovus'"
      ],
      "execution_count": 4,
      "outputs": []
    },
    {
      "cell_type": "code",
      "metadata": {
        "id": "Z6jhxrnqHFnM"
      },
      "source": [
        "r = requests.get(f'{url}/users/{user}/repos')"
      ],
      "execution_count": 5,
      "outputs": []
    },
    {
      "cell_type": "code",
      "metadata": {
        "id": "_idkbrMuHH3s"
      },
      "source": [
        "with open('github_repos.json', 'w') as f:\n",
        "    json.dump(r.json(), f)"
      ],
      "execution_count": 8,
      "outputs": []
    },
    {
      "cell_type": "code",
      "metadata": {
        "colab": {
          "base_uri": "https://localhost:8080/"
        },
        "id": "snBp6cilHKw-",
        "outputId": "8cc0ea80-ed16-4008-f71b-b2f8565e4fcc"
      },
      "source": [
        "for i in r.json():\n",
        "    print(i['name'])"
      ],
      "execution_count": 9,
      "outputs": [
        {
          "output_type": "stream",
          "name": "stdout",
          "text": [
            "MySQL\n",
            "Python\n",
            "Python_DataScience\n"
          ]
        }
      ]
    },
    {
      "cell_type": "markdown",
      "metadata": {
        "id": "QpKpt1UlSjuU"
      },
      "source": [
        "## 2. Изучить список открытых API. Найти среди них любое, требующее авторизацию (любого типа). Выполнить запросы к нему, пройдя авторизацию. Ответ сервера записать в файл."
      ]
    },
    {
      "cell_type": "code",
      "metadata": {
        "id": "nz8oizzMHM_s"
      },
      "source": [
        "url = 'https://api.weatherbit.io/v2.0/current'\n",
        "\n",
        "parameters = {\n",
        "  'city':'Moscow',\n",
        "  'lang':'ru',\n",
        "  'units':'M',\n",
        "  'key':'55f7fa7b5def4c74adcee7279b2f0c47'\n",
        "}\n",
        "\n",
        "response = requests.get(url, params=parameters)\n",
        "\n",
        "with open('weather.json', 'w') as f:\n",
        "    json.dump(response.json(), f)"
      ],
      "execution_count": 33,
      "outputs": []
    }
  ]
}